{
 "cells": [
  {
   "cell_type": "code",
   "execution_count": 1,
   "metadata": {},
   "outputs": [
    {
     "name": "stderr",
     "output_type": "stream",
     "text": [
      "Using TensorFlow backend.\n"
     ]
    }
   ],
   "source": [
    "import os\n",
    "import time\n",
    "import cv2\n",
    "import numpy as np\n",
    "from model.yolo_model import YOLO\n"
   ]
  },
  {
   "cell_type": "code",
   "execution_count": 2,
   "metadata": {},
   "outputs": [],
   "source": [
    "def process_image(img):\n",
    "    \"\"\"Resize, reduce and expand image.\n",
    "\n",
    "    # Argument:\n",
    "        img: original image.\n",
    "\n",
    "    # Returns\n",
    "        image: ndarray(64, 64, 3), processed image.\n",
    "    \"\"\"\n",
    "    image = cv2.resize(img, (416, 416),\n",
    "                       interpolation=cv2.INTER_CUBIC)\n",
    "    image = np.array(image, dtype='float32')\n",
    "    image /= 255.\n",
    "    image = np.expand_dims(image, axis=0)\n",
    "\n",
    "    return image"
   ]
  },
  {
   "cell_type": "code",
   "execution_count": 3,
   "metadata": {},
   "outputs": [],
   "source": [
    "def get_classes(file):\n",
    "    \"\"\"Get classes name.\n",
    "\n",
    "    # Argument:\n",
    "        file: classes name for database.\n",
    "\n",
    "    # Returns\n",
    "        class_names: List, classes name.\n",
    "\n",
    "    \"\"\"\n",
    "    with open(file) as f:\n",
    "        class_names = f.readlines()\n",
    "    class_names = [c.strip() for c in class_names]\n",
    "\n",
    "    return class_names"
   ]
  },
  {
   "cell_type": "code",
   "execution_count": 4,
   "metadata": {},
   "outputs": [],
   "source": [
    "car = 0\n",
    "base = []\n",
    "\n",
    "\n",
    "\n",
    "\n",
    "def draw(image, boxes, scores, classes, all_classes):\n",
    "    \n",
    "\n",
    "    global  base \n",
    "    \"\"\"Draw the boxes on the image.\n",
    "\n",
    "    # Argument:\n",
    "        image: original image.\n",
    "        boxes: ndarray, boxes of objects.\n",
    "        classes: ndarray, classes of objects.\n",
    "        scores: ndarray, scores of objects.\n",
    "        all_classes: all classes name.\n",
    "    \"\"\"\n",
    "   \n",
    "    for box, score, cl in zip(boxes, scores, classes):\n",
    "       \n",
    "        x, y, w, h = box\n",
    "\n",
    "        top = max(0, np.floor(x + 0.5).astype(int))\n",
    "        left = max(0, np.floor(y + 0.5).astype(int))\n",
    "        right = min(image.shape[1], np.floor(x + w + 0.5).astype(int))\n",
    "        bottom = min(image.shape[0], np.floor(y + h + 0.5).astype(int))\n",
    "\n",
    "        cv2.rectangle(image, (top, left), (right, bottom), (255, 0, 0), 2)\n",
    "        cv2.putText(image, '{0} {1:.2f} {2}'.format(all_classes[cl], score, car ),\n",
    "                    (top, left - 6),\n",
    "                    cv2.FONT_HERSHEY_SIMPLEX,\n",
    "                    0.6, (0, 0, 255), 1,\n",
    "                    cv2.LINE_AA)\n",
    "     \n",
    "            \n",
    "        base.append([(x),(y),(w),(h)])\n",
    "        \n",
    "    #w.append([1])\n",
    "        \n",
    "      \n",
    "        \n",
    "    print(len(base))\n",
    "    cv2.putText(frame,str(len(base)),(500,50),cv2.FONT_HERSHEY_SIMPLEX,1.5,(255,255,255),2)\n",
    "\n",
    "        #print('class: {0}, score: {1:.2f}'.format(all_classes[cl], score))\n",
    "        #print('box coordinate x,y,w,h: {0}'.format(box))\n",
    "        \n",
    "\n",
    "    print()"
   ]
  },
  {
   "cell_type": "code",
   "execution_count": 5,
   "metadata": {},
   "outputs": [],
   "source": [
    "def detect_image(image, yolo, all_classes):\n",
    "    \"\"\"Use yolo v3 to detect images.\n",
    "\n",
    "    # Argument:\n",
    "        image: original image.\n",
    "        yolo: YOLO, yolo model.\n",
    "        all_classes: all classes name.\n",
    "\n",
    "    # Returns:\n",
    "        image: processed image.\n",
    "    \"\"\"\n",
    "    pimage = process_image(image)\n",
    "    \n",
    "    #b = 0\n",
    "    start = time.time()\n",
    "    boxes, classes, scores = yolo.predict(pimage, image.shape)\n",
    "    end = time.time()\n",
    "   \n",
    "     \n",
    "    print('time: {0:.2f}s'.format(end - start))\n",
    "    \n",
    "    #print(\"b\"+str(b))\n",
    "\n",
    "    if boxes is not None:\n",
    "        draw(image, boxes, scores, classes, all_classes)\n",
    "        #a = scores\n",
    "        \n",
    "        #a = a+scores\n",
    "        \n",
    "        #print(\"a\"+str(a))\n",
    "        \n",
    "        \n",
    "\n",
    "    return image"
   ]
  },
  {
   "cell_type": "code",
   "execution_count": 6,
   "metadata": {},
   "outputs": [
    {
     "name": "stderr",
     "output_type": "stream",
     "text": [
      "C:\\Users\\Gamer\\Miniconda3\\lib\\site-packages\\keras\\engine\\saving.py:341: UserWarning: No training configuration found in save file: the model was *not* compiled. Compile it manually.\n",
      "  warnings.warn('No training configuration found in save file: '\n"
     ]
    }
   ],
   "source": [
    "yolo = YOLO(0.2, 0.5)\n",
    "file = 'data/coco_classes.txt'\n",
    "all_classes = get_classes(file)"
   ]
  },
  {
   "cell_type": "code",
   "execution_count": 9,
   "metadata": {},
   "outputs": [
    {
     "name": "stdout",
     "output_type": "stream",
     "text": [
      "time: 2.36s\n",
      "3\n",
      "\n",
      "time: 0.55s\n",
      "4\n",
      "\n",
      "time: 0.56s\n",
      "5\n",
      "\n",
      "time: 0.51s\n",
      "7\n",
      "\n",
      "time: 0.48s\n",
      "8\n",
      "\n",
      "time: 0.46s\n",
      "9\n",
      "\n",
      "time: 0.47s\n",
      "10\n",
      "\n",
      "time: 0.49s\n",
      "11\n",
      "\n",
      "time: 0.47s\n",
      "12\n",
      "\n",
      "time: 0.47s\n",
      "14\n",
      "\n",
      "time: 0.49s\n",
      "16\n",
      "\n",
      "time: 0.49s\n",
      "19\n",
      "\n",
      "time: 0.48s\n",
      "20\n",
      "\n",
      "time: 0.49s\n",
      "21\n",
      "\n",
      "time: 0.49s\n",
      "time: 0.51s\n",
      "time: 0.49s\n",
      "time: 0.49s\n",
      "23\n",
      "\n",
      "time: 0.49s\n",
      "24\n",
      "\n",
      "time: 0.48s\n",
      "26\n",
      "\n",
      "time: 0.46s\n",
      "28\n",
      "\n",
      "time: 0.46s\n",
      "30\n",
      "\n",
      "time: 0.47s\n",
      "32\n",
      "\n",
      "time: 0.51s\n",
      "35\n",
      "\n",
      "time: 0.50s\n",
      "37\n",
      "\n",
      "time: 0.56s\n",
      "38\n",
      "\n",
      "time: 0.57s\n",
      "39\n",
      "\n",
      "time: 0.56s\n",
      "41\n",
      "\n",
      "time: 0.50s\n",
      "44\n",
      "\n",
      "time: 0.50s\n",
      "45\n",
      "\n",
      "time: 0.50s\n",
      "46\n",
      "\n",
      "time: 0.51s\n",
      "47\n",
      "\n",
      "time: 0.51s\n",
      "time: 0.51s\n",
      "time: 0.51s\n",
      "time: 0.53s\n",
      "48\n",
      "\n",
      "time: 0.52s\n",
      "time: 0.56s\n",
      "time: 0.51s\n",
      "time: 0.50s\n",
      "time: 0.49s\n",
      "time: 0.49s\n",
      "time: 0.49s\n",
      "time: 0.50s\n",
      "time: 0.48s\n",
      "time: 0.54s\n",
      "49\n",
      "\n",
      "time: 0.51s\n",
      "50\n",
      "\n",
      "time: 0.55s\n",
      "51\n",
      "\n",
      "time: 0.54s\n",
      "52\n",
      "\n",
      "time: 0.53s\n",
      "53\n",
      "\n",
      "time: 0.53s\n",
      "54\n",
      "\n",
      "time: 0.52s\n",
      "55\n",
      "\n",
      "time: 0.48s\n",
      "56\n",
      "\n"
     ]
    }
   ],
   "source": [
    "import cv2\n",
    "\n",
    "base = []\n",
    "bikes_classifier = cv2.CascadeClassifier('cars.xml')\n",
    "\n",
    "camera=cv2.VideoCapture('test_video.webm')\n",
    "\n",
    "i=0 #frame counter\n",
    "frameTime = 1 # time of each frame in ms, you can add logic to change this value.\n",
    "count=0\n",
    "while(True):\n",
    "    ret = camera.grab() #grab frame\n",
    "    if ret == True:\n",
    "        i=i+1 #increment counter\n",
    "        if i % 3 == 0: # display only one third of the frames, you can change this parameter according to your needs\n",
    "            ret, frame = camera.retrieve()\n",
    "            \n",
    "            height,width=frame.shape[0:2]\n",
    "    \n",
    "            frame[0:70,0:width]=[0,0,255]\n",
    "            cv2.putText(frame,'car COUNT:',(10,50),cv2.FONT_HERSHEY_SIMPLEX,1.5,(255,255,255),2)\n",
    "\n",
    "            #cv2.line(frame,(0,height-200),(width,height-200),(0,255,255),2)\n",
    "\n",
    "            blur=cv2.blur(frame,(3,3))\n",
    "            gray=cv2.cvtColor(blur,cv2.COLOR_BGR2GRAY)\n",
    "\n",
    "            bikes=bikes_classifier.detectMultiScale(gray)\n",
    "\n",
    "            for (x,y,w,h) in bikes:\n",
    "\n",
    "                bikeCy=int(y+h/2)\n",
    "                linCy=height-200\n",
    "\n",
    "                if(bikeCy<linCy+6 and bikeCy>linCy-6 or bikeCy<linCy+5 and bikeCy>linCy-5 or bikeCy<linCy+4 and bikeCy>linCy-4 or bikeCy<linCy+7 and bikeCy>linCy-7):\n",
    "\n",
    "                    count=count+1\n",
    "                    #cv2.line(frame,(0,height-200),(width,height-200),(0,0,255),5)\n",
    "\n",
    "                #cv2.rectangle(frame,(x,y),(x+w,y+h),(0,255,0),2)\n",
    "                #cv2.putText(frame,'Bike',(x,y-10),cv2.FONT_HERSHEY_SIMPLEX,0.5,(0,255,0),2)\n",
    "                #cv2.putText(frame,str(count),(500,50),cv2.FONT_HERSHEY_SIMPLEX,1.5,(255,255,255),2)\n",
    "                \n",
    "                \n",
    "            \n",
    "            \n",
    "            \n",
    "            \n",
    "            \n",
    "       \n",
    "            \n",
    "            #decode frame\n",
    "            frame = detect_image(frame, yolo, all_classes)\n",
    "            cv2.imshow('frame',frame)\n",
    "           \n",
    "            if cv2.waitKey(frameTime) & 0xFF == ord('q'):\n",
    "                \n",
    "            \n",
    "                \n",
    "                break\n",
    "    else:\n",
    "        break\n",
    "        \n",
    "camera.release()\n",
    "cv2.destroyAllWindows()"
   ]
  },
  {
   "cell_type": "code",
   "execution_count": 99,
   "metadata": {},
   "outputs": [
    {
     "data": {
      "text/plain": [
       "38"
      ]
     },
     "execution_count": 99,
     "metadata": {},
     "output_type": "execute_result"
    }
   ],
   "source": [
    "len(base)"
   ]
  },
  {
   "cell_type": "code",
   "execution_count": 100,
   "metadata": {},
   "outputs": [
    {
     "data": {
      "text/plain": [
       "[[709.5331234931946,\n",
       "  551.2506033182144,\n",
       "  240.33653908967972,\n",
       "  140.03464990854263],\n",
       " [276.3328403234482,\n",
       "  374.30540895462036,\n",
       "  197.40640300512314,\n",
       "  188.7320563197136],\n",
       " [224.21108239889145,\n",
       "  438.4104562997818,\n",
       "  211.80488455295563,\n",
       "  235.35165286064148],\n",
       " [315.7605564594269,\n",
       "  446.35254311561584,\n",
       "  171.82513117790222,\n",
       "  157.30316683650017],\n",
       " [291.1618309020996, 494.3769625425339, 198.84408259391785, 162.0536411702633],\n",
       " [245.63865637779236,\n",
       "  545.3418724536896,\n",
       "  218.66509437561035,\n",
       "  143.70566576719284],\n",
       " [170.63238447904587,\n",
       "  597.0393047332764,\n",
       "  300.37110221385956,\n",
       "  101.16045707464218],\n",
       " [939.4232110977173,\n",
       "  485.8066130876541,\n",
       "  219.67824840545654,\n",
       "  138.13305395841599],\n",
       " [942.3599274158478,\n",
       "  526.2773194313049,\n",
       "  234.82970917224884,\n",
       "  158.06780752539635],\n",
       " [603.1874263286591, 402.6044783592224, 189.5704624056816, 150.92519438266754],\n",
       " [612.3354821205139, 415.109779715538, 175.75310343503952, 167.5439913868904],\n",
       " [589.6585485935211,\n",
       "  492.6055040359497,\n",
       "  227.34371316432953,\n",
       "  170.21069607138634],\n",
       " [587.2849867343903, 521.7642793655396, 235.98768800497055, 161.9660958647728],\n",
       " [934.31955742836, 434.42986476421356, 209.0964429974556, 127.77755826711655],\n",
       " [954.062819480896,\n",
       "  494.88503110408783,\n",
       "  226.71045649051666,\n",
       "  138.21909111738205],\n",
       " [952.8886427879333,\n",
       "  517.8507535457611,\n",
       "  229.82161402702332,\n",
       "  157.52852553129196],\n",
       " [302.62304735183716,\n",
       "  436.1395412683487,\n",
       "  218.92130380868912,\n",
       "  148.0581974387169],\n",
       " [301.90014481544495, 434.0512263774872, 186.3065847158432, 190.9527136683464],\n",
       " [251.38656002283096,\n",
       "  523.3296730518341,\n",
       "  242.74056708812714,\n",
       "  162.85752487182617],\n",
       " [227.3345609307289, 537.9060652256012, 252.37480652332306, 152.9314765036106],\n",
       " [256.12555825710297,\n",
       "  456.0502372980118,\n",
       "  185.37374728918076,\n",
       "  188.52979826927185],\n",
       " [257.88066279888153,\n",
       "  456.33468413352966,\n",
       "  184.1571552157402,\n",
       "  186.33847177028656],\n",
       " [175.91623270511627,\n",
       "  552.1769589185715,\n",
       "  244.5474693775177,\n",
       "  144.80841210484505],\n",
       " [177.37067663669586,\n",
       "  550.4090367555618,\n",
       "  241.62597727775574,\n",
       "  144.9636159837246],\n",
       " [309.93739914894104,\n",
       "  484.8889527320862,\n",
       "  212.85220456123352,\n",
       "  137.4817634820938],\n",
       " [310.1711440086365,\n",
       "  484.31140542030334,\n",
       "  212.81945478916168,\n",
       "  136.74870026111603],\n",
       " [248.345911860466, 573.2455786466599, 252.12417340278625, 124.89656156301498],\n",
       " [632.1043066978455,\n",
       "  415.5642206668854,\n",
       "  173.79507422447205,\n",
       "  162.52598226070404],\n",
       " [627.5398736000061, 512.260751247406, 228.0267671942711, 172.92044013738632],\n",
       " [301.0160779953003, 411.9449186325073, 173.23958498239517, 182.9656320810318],\n",
       " [222.72744691371918,\n",
       "  511.58094120025635,\n",
       "  229.16277712583542,\n",
       "  172.34436976909637],\n",
       " [198.28255677223206,\n",
       "  520.8541077375412,\n",
       "  246.17120307683945,\n",
       "  174.62173342704773],\n",
       " [923.2299535274506, 413.9227331876755, 189.90374886989594, 164.2728007733822],\n",
       " [966.8428072929382, 501.1049185991287, 207.2568794488907, 198.58048194646835],\n",
       " [652.1162230968475,\n",
       "  436.7872745990753,\n",
       "  183.12252795696259,\n",
       "  180.23112320899963],\n",
       " [644.0700466632843,\n",
       "  472.2773530483246,\n",
       "  203.74778562784195,\n",
       "  159.42614829540253],\n",
       " [631.4160304069519, 526.8981349468231, 226.9742957353592, 163.25226402282715],\n",
       " [628.1658368110657, 548.8995172977448, 241.55323737859726, 149.2412291765213]]"
      ]
     },
     "execution_count": 100,
     "metadata": {},
     "output_type": "execute_result"
    }
   ],
   "source": [
    "base"
   ]
  },
  {
   "cell_type": "code",
   "execution_count": 17,
   "metadata": {},
   "outputs": [
    {
     "name": "stdout",
     "output_type": "stream",
     "text": [
      "1.0\n"
     ]
    }
   ],
   "source": [
    "my = [966.84280729 ,501.1049602 , 207.25686175 ,198.58039874]\n",
    "\n",
    "    \n",
    "print(len(my)/4)"
   ]
  },
  {
   "cell_type": "code",
   "execution_count": 28,
   "metadata": {},
   "outputs": [],
   "source": [
    "my = []\n",
    "\n",
    "a = 966.84280729\n",
    "\n",
    "b= 966.84280733\n",
    "#c = ''\n",
    "my.append([a,c,b])"
   ]
  },
  {
   "cell_type": "code",
   "execution_count": 29,
   "metadata": {},
   "outputs": [
    {
     "data": {
      "text/plain": [
       "[[966.84280729, '', 966.84280733]]"
      ]
     },
     "execution_count": 29,
     "metadata": {},
     "output_type": "execute_result"
    }
   ],
   "source": [
    "my\n"
   ]
  },
  {
   "cell_type": "code",
   "execution_count": 53,
   "metadata": {},
   "outputs": [],
   "source": [
    "w = []\n",
    "\n",
    "a = 966.84280729 \n",
    "\n",
    "b= 966.84280733 \n",
    "\n",
    "w.append([(a),(b)])"
   ]
  },
  {
   "cell_type": "code",
   "execution_count": 54,
   "metadata": {},
   "outputs": [
    {
     "data": {
      "text/plain": [
       "[[966.84280729, 966.84280733]]"
      ]
     },
     "execution_count": 54,
     "metadata": {},
     "output_type": "execute_result"
    }
   ],
   "source": [
    "w\n"
   ]
  },
  {
   "cell_type": "code",
   "execution_count": 55,
   "metadata": {},
   "outputs": [
    {
     "data": {
      "text/plain": [
       "1"
      ]
     },
     "execution_count": 55,
     "metadata": {},
     "output_type": "execute_result"
    }
   ],
   "source": [
    "len(w)"
   ]
  },
  {
   "cell_type": "code",
   "execution_count": 76,
   "metadata": {},
   "outputs": [],
   "source": [
    "w = []\n",
    "\n",
    "w.append(1)"
   ]
  },
  {
   "cell_type": "code",
   "execution_count": 77,
   "metadata": {},
   "outputs": [
    {
     "data": {
      "text/plain": [
       "[1]"
      ]
     },
     "execution_count": 77,
     "metadata": {},
     "output_type": "execute_result"
    }
   ],
   "source": [
    "w"
   ]
  },
  {
   "cell_type": "code",
   "execution_count": null,
   "metadata": {},
   "outputs": [],
   "source": []
  },
  {
   "cell_type": "code",
   "execution_count": null,
   "metadata": {},
   "outputs": [],
   "source": []
  }
 ],
 "metadata": {
  "kernelspec": {
   "display_name": "Python 3",
   "language": "python",
   "name": "python3"
  },
  "language_info": {
   "codemirror_mode": {
    "name": "ipython",
    "version": 3
   },
   "file_extension": ".py",
   "mimetype": "text/x-python",
   "name": "python",
   "nbconvert_exporter": "python",
   "pygments_lexer": "ipython3",
   "version": "3.7.3"
  }
 },
 "nbformat": 4,
 "nbformat_minor": 4
}
